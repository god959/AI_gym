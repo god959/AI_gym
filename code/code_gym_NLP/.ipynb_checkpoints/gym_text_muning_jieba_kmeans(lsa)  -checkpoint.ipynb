{
 "cells": [
  {
   "cell_type": "code",
   "execution_count": 1,
   "metadata": {},
   "outputs": [
    {
     "name": "stderr",
     "output_type": "stream",
     "text": [
      "Building prefix dict from the default dictionary ...\n",
      "Loading model from cache C:\\Users\\BIGDAT~1\\AppData\\Local\\Temp\\jieba.cache\n",
      "Loading model cost 3.029 seconds.\n",
      "Prefix dict has been built succesfully.\n"
     ]
    }
   ],
   "source": [
    "#導入相關模組\n",
    "import json\n",
    "import random\n",
    "import re\n",
    "\n",
    "import jieba\n",
    "import numpy as np\n",
    "from sklearn.feature_extraction.text import TfidfVectorizer\n",
    "from sklearn.feature_extraction.text import TfidfTransformer\n",
    "from sklearn.feature_extraction.text import CountVectorizer\n",
    "\n",
    "#讀取jieba所需的自建辭典\n",
    "jieba.load_userdict(\"E:/Python 3.7/pyetl/Demodb0103/gym/data/dict.txt\")\n",
    "import time"
   ]
  },
  {
   "cell_type": "code",
   "execution_count": 2,
   "metadata": {},
   "outputs": [],
   "source": [
    "#讀取要斷詞的json檔\n",
    "DATASET_DIR = 'E:/Python 3.7/pyetl/Demodb0103/gym/data/gymz.json'\n",
    "with open(DATASET_DIR, encoding='utf8') as f:\n",
    "    dataset = json.load(f)"
   ]
  },
  {
   "cell_type": "code",
   "execution_count": 4,
   "metadata": {},
   "outputs": [],
   "source": [
    "#讀取停止詞典\n",
    "STOP_WORDS_DIR = 'E:/Python 3.7/pyetl/Demodb0103/gym/data/stopWords.txt'\n",
    "with open(STOP_WORDS_DIR, encoding='utf8') as f:\n",
    "    stop_words = f.read().splitlines() "
   ]
  },
  {
   "cell_type": "code",
   "execution_count": 5,
   "metadata": {},
   "outputs": [],
   "source": [
    "#抽出文章的標題與內容\n",
    "content_list = list(map(lambda d: d['content'], dataset))\n",
    "title_list = list(map(lambda d: d['title'], dataset))"
   ]
  },
  {
   "cell_type": "code",
   "execution_count": 6,
   "metadata": {},
   "outputs": [],
   "source": [
    "#替換不需要的句子\n",
    "# start = time.clock()\n",
    "gym_list =[]\n",
    "for i in content_list:\n",
    "    i = re.sub('※ 發信站: 批踢踢實業坊',' ', i)\n",
    "    i = re.sub('※ 文章網址:',' ', i)\n",
    "    i = re.sub('※ 編輯:',' ', i)\n",
    "    i = re.sub('(臺灣)',' ', i)\n",
    "    i = re.sub('來自:',' ', i)\n",
    "    gym_list.append(i)"
   ]
  },
  {
   "cell_type": "code",
   "execution_count": 7,
   "metadata": {},
   "outputs": [],
   "source": [
    "#將文章正規化，並進行jieba斷詞\n",
    "rule = re.compile(r\"[^\\u4e00-\\u9fa5]\")\n",
    "gym_list = [list(jieba.cut(rule.sub('', speech))) for speech in gym_list]"
   ]
  },
  {
   "cell_type": "code",
   "execution_count": 8,
   "metadata": {},
   "outputs": [],
   "source": [
    "#去除停止詞\n",
    "for idx, speech in enumerate(gym_list):\n",
    "    gym_list[idx] = ' '.join([word for word in speech if word not in stop_words])\n",
    "# end = time.clock()\n",
    "# print('運行時間: ' + str(end - start))"
   ]
  },
  {
   "cell_type": "code",
   "execution_count": 9,
   "metadata": {},
   "outputs": [],
   "source": [
    "# 使用 tf-idf 向量化\n",
    "#TfidfTransformer + CountVectorizer = TfidfVectorizer\n",
    "# 需要設置（sublinear_tf = True，use_idf = True）使特徵值近似於高斯分佈\n",
    "# ，這能彌補LSA對於文本數據的錯誤的替代假設\n",
    "tfidf_vectorizer = TfidfVectorizer(max_features = None,\n",
    "                                   sublinear_tf=True, \n",
    "                                   use_idf=True,\n",
    "                                   max_df=0.9,\n",
    "                                   min_df=25,\n",
    "                                   ngram_range=(1, 4))\n",
    "                                   \n",
    "#將算出的tf-idf 先擬合數據，然後轉化為其其轉化為標準形式\n",
    "tfidf = tfidf_vectorizer.fit_transform(gym_list)\n",
    "# 將tf-idf矩陣抽取出來，元素w [i] [j]表示j詞在i類文本中的tf-idf權重\n",
    "tfidf1 = tfidf.toarray()"
   ]
  },
  {
   "cell_type": "code",
   "execution_count": 10,
   "metadata": {},
   "outputs": [],
   "source": [
    "#使用LSA語意分析降維\n",
    "from sklearn.decomposition import TruncatedSVD\n",
    "from sklearn.preprocessing import Normalizer\n",
    "import pandas as pd\n",
    "#使用TruncatedSVD,把原先規模為(文字數，詞彙數)的特徵矩陣X化為規模為(文字數，主題數)的新特徵矩陣X2：\n",
    "#(由於主題數一般比詞彙數少，這一方法也可以用來降維，以進行分類或聚類操作)\n",
    "lsa_model = TruncatedSVD(n_components=100, algorithm='arpack')\n",
    "lsa_vecs = lsa_model.fit_transform(tfidf)\n",
    "#使用Normalization(正則化)，形成獨立同分佈與白化\n",
    "lsa_vecs = Normalizer(copy=False).fit_transform(lsa_vecs)\n",
    "\n",
    "#顯示關鍵字lsa表格\n",
    "feature_names = tfidf_vectorizer.get_feature_names()\n",
    "lsa_df = pd.DataFrame(lsa_model.components_.round(5), columns=feature_names)"
   ]
  },
  {
   "cell_type": "markdown",
   "metadata": {},
   "source": [
    "KMeans分群"
   ]
  },
  {
   "cell_type": "code",
   "execution_count": 11,
   "metadata": {},
   "outputs": [
    {
     "name": "stdout",
     "output_type": "stream",
     "text": [
      "k=2, inertia=17091.812212301353\n",
      "k=3, inertia=16698.120166778084\n",
      "k=4, inertia=16353.932446188028\n",
      "k=5, inertia=16104.604160261062\n",
      "k=6, inertia=15905.17438346898\n",
      "k=7, inertia=15703.365012608327\n",
      "k=8, inertia=15525.473058504103\n",
      "k=9, inertia=15363.180745947071\n",
      "k=10, inertia=15195.213989761456\n",
      "k=11, inertia=15020.135133790302\n",
      "k=12, inertia=14905.863338932462\n",
      "k=13, inertia=14760.531111309418\n",
      "k=14, inertia=14620.323045021536\n",
      "k=15, inertia=14529.156619863154\n",
      "k=16, inertia=14378.503618909526\n",
      "k=17, inertia=14236.549345582958\n",
      "k=18, inertia=14151.340213198748\n",
      "k=19, inertia=14070.87260402676\n"
     ]
    }
   ],
   "source": [
    "# import numpy as np\n",
    "# np.random.seed(123)\n",
    "#跑KMeans分群用簇內誤方差（SSE）決定最佳分群數k\n",
    "from sklearn.cluster import KMeans\n",
    "import matplotlib.pyplot as plt\n",
    "wcss = []\n",
    "for k in range(2, 20):\n",
    "    kmeans = KMeans(n_clusters=k, init='k-means++',n_jobs=-1)\n",
    "    kmeans.fit(lsa_vecs)\n",
    "    wcss.append(kmeans.inertia_)\n",
    "    print('k={}, inertia={}'.format(k, kmeans.inertia_))"
   ]
  },
  {
   "cell_type": "code",
   "execution_count": 12,
   "metadata": {},
   "outputs": [
    {
     "data": {
      "image/png": "[encoded data removed]",
      "text/plain": [
       "<Figure size 432x288 with 1 Axes>"
      ]
     },
     "metadata": {
      "needs_background": "light"
     },
     "output_type": "display_data"
    }
   ],
   "source": [
    "#畫圖\n",
    "plt.plot(range(2, 20), wcss,marker=\"o\")\n",
    "plt.title('The Elbow Method')\n",
    "plt.xlabel('Number of clusters')\n",
    "plt.ylabel('SSE')\n",
    "plt.show()"
   ]
  },
  {
   "cell_type": "code",
   "execution_count": 13,
   "metadata": {},
   "outputs": [],
   "source": [
    "#K-Means, k=11\n",
    "kmeans = KMeans(n_clusters=11, init='k-means++',n_jobs=-1)\n",
    "kmeans.fit(lsa_vecs)\n",
    "clusters = kmeans.predict(lsa_vecs)"
   ]
  },
  {
   "cell_type": "code",
   "execution_count": 14,
   "metadata": {},
   "outputs": [
    {
     "data": {
      "text/plain": [
       "(11, 100)"
      ]
     },
     "execution_count": 14,
     "metadata": {},
     "output_type": "execute_result"
    }
   ],
   "source": [
    "#基於通過LSA創建的2個潛在維度的10個群集。\n",
    "kmeans.cluster_centers_.shape"
   ]
  },
  {
   "cell_type": "code",
   "execution_count": 15,
   "metadata": {},
   "outputs": [
    {
     "data": {
      "text/plain": [
       "(11, 6950)"
      ]
     },
     "execution_count": 15,
     "metadata": {},
     "output_type": "execute_result"
    }
   ],
   "source": [
    "#探索原始尺寸\n",
    "original_space_centroids = lsa_model.inverse_transform(kmeans.cluster_centers_)\n",
    "original_space_centroids.shape"
   ]
  },
  {
   "cell_type": "code",
   "execution_count": 16,
   "metadata": {},
   "outputs": [
    {
     "data": {
      "text/plain": [
       "(11, 6950)"
      ]
     },
     "execution_count": 16,
     "metadata": {},
     "output_type": "execute_result"
    }
   ],
   "source": [
    "order_centroids = original_space_centroids.argsort()[:, ::-1]\n",
    "order_centroids.shape"
   ]
  },
  {
   "cell_type": "code",
   "execution_count": 18,
   "metadata": {},
   "outputs": [
    {
     "name": "stdout",
     "output_type": "stream",
     "text": [
      "Cluster 0\n",
      "\n",
      "面交\n",
      "內信\n",
      "空桶\n",
      "全新\n",
      "自取\n",
      "\n",
      "\n",
      "Cluster 1\n",
      "\n",
      "訓練\n",
      "動作\n",
      "重量\n",
      "肌肉\n",
      "影片\n",
      "\n",
      "\n",
      "Cluster 2\n",
      "\n",
      "胸痛\n",
      "心臟\n",
      "情況\n",
      "疾病\n",
      "活動\n",
      "\n",
      "\n",
      "Cluster 3\n",
      "\n",
      "運動\n",
      "重訓\n",
      "體重\n",
      "飲食\n",
      "有氧\n",
      "\n",
      "\n",
      "Cluster 4\n",
      "\n",
      "教練\n",
      "推薦\n",
      "健身房\n",
      "健身\n",
      "課程\n",
      "\n",
      "\n",
      "Cluster 5\n",
      "\n",
      "動作\n",
      "感覺\n",
      "重量\n",
      "硬舉\n",
      "姿勢\n",
      "\n",
      "\n",
      "Cluster 6\n",
      "\n",
      "健身房\n",
      "器材\n",
      "運動\n",
      "推薦\n",
      "最近\n",
      "\n",
      "\n",
      "Cluster 7\n",
      "\n",
      "健身\n",
      "最近\n",
      "小弟\n",
      "請問\n",
      "真的\n",
      "\n",
      "\n",
      "Cluster 8\n",
      "\n",
      "蛋白\n",
      "熱量\n",
      "攝取\n",
      "脂肪\n",
      "碳水\n",
      "\n",
      "\n",
      "Cluster 9\n",
      "\n",
      "乳清\n",
      "口味\n",
      "巧克力\n",
      "蛋白\n",
      "味道\n",
      "\n",
      "\n",
      "Cluster 10\n",
      "\n",
      "有人\n",
      "請問\n",
      "謝謝\n",
      "最近\n",
      "推薦\n",
      "\n",
      "\n"
     ]
    }
   ],
   "source": [
    "#檢查每個群集中的前10個TF-IDF功能\n",
    "for cluster in range(11):\n",
    "    features = order_centroids[cluster,0:5]\n",
    "    print('Cluster {}\\n'.format(cluster))\n",
    "    for feature in features:\n",
    "        print(feature_names[feature])\n",
    "    print('\\n')"
   ]
  },
  {
   "cell_type": "code",
   "execution_count": null,
   "metadata": {},
   "outputs": [],
   "source": [
    "#跑KMeans分群用labels決定最佳分群數k\n",
    "# from sklearn.metrics import silhouette_score\n",
    "# from sklearn.cluster import KMeans\n",
    "# import matplotlib.pyplot as plt\n",
    "# %matplotlib inline\n",
    "\n",
    "\n",
    "# scores = [] \n",
    "# ks = []\n",
    "\n",
    "# for k in range(2, 20): \n",
    "#     clu = KMeans(n_clusters = k,init='k-means++',n_jobs=-1) \n",
    "#     clu.fit(lsa_vecs) \n",
    "#     clu_score = silhouette_score(lsa_vecs, clu.labels_) \n",
    "#     scores.append(clu_score) \n",
    "#     ks.append(k)\n",
    "# print(\"分數:\", scores) \n",
    "# print(\"K 值:\", ks) \n",
    "# plt.plot(scores, ks)"
   ]
  },
  {
   "cell_type": "markdown",
   "metadata": {},
   "source": [
    "MiniBatchKMeans分群"
   ]
  },
  {
   "cell_type": "code",
   "execution_count": null,
   "metadata": {},
   "outputs": [],
   "source": [
    "# # import numpy as np\n",
    "# # np.random.seed(123)\n",
    "# #跑MiniBatchKMeans分群用簇內誤方差（SSE）決定最佳分群數k\n",
    "# from sklearn.cluster import MiniBatchKMeans\n",
    "# wcss = []\n",
    "# for k in range(2, 20):\n",
    "#     kmeans = MiniBatchKMeans(n_clusters=k, init='k-means++')\n",
    "#     kmeans.fit(lsa_vecs)\n",
    "#     wcss.append(kmeans.inertia_)\n",
    "#     print('k={}, inertia={}'.format(k, kmeans.inertia_))\n",
    "# plt.plot(range(2, 20), wcss,marker=\"o\")\n",
    "# plt.title('The Elbow Method')\n",
    "# plt.xlabel('Number of clusters')\n",
    "# plt.ylabel('SSE')\n",
    "# plt.show()"
   ]
  },
  {
   "cell_type": "code",
   "execution_count": null,
   "metadata": {},
   "outputs": [],
   "source": [
    "# #畫圖\n",
    "# plt.plot(range(2, 20), wcss,marker=\"o\")\n",
    "# plt.title('The Elbow Method')\n",
    "# plt.xlabel('Number of clusters')\n",
    "# plt.ylabel('SSE')\n",
    "# plt.show()"
   ]
  }
 ],
 "metadata": {
  "kernelspec": {
   "display_name": "Python 3",
   "language": "python",
   "name": "python3"
  },
  "language_info": {
   "codemirror_mode": {
    "name": "ipython",
    "version": 3
   },
   "file_extension": ".py",
   "mimetype": "text/x-python",
   "name": "python",
   "nbconvert_exporter": "python",
   "pygments_lexer": "ipython3",
   "version": "3.7.0"
  }
 },
 "nbformat": 4,
 "nbformat_minor": 2
}
