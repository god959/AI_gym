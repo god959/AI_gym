{
 "cells": [
  {
   "cell_type": "code",
   "execution_count": 15,
   "metadata": {},
   "outputs": [
    {
     "name": "stderr",
     "output_type": "stream",
     "text": [
      "Exception ignored in: <function WS.__del__ at 0x0000020314D6FE18>\n",
      "Traceback (most recent call last):\n",
      "  File \"E:\\Python 3.7\\pyetl\\Demodb0103\\venv\\lib\\site-packages\\ckiptagger\\api.py\", line 56, in __del__\n",
      "    self.model.sess.close()\n",
      "AttributeError: 'WS' object has no attribute 'model'\n",
      "Exception ignored in: <function WS.__del__ at 0x0000020314D6FE18>\n",
      "Traceback (most recent call last):\n",
      "  File \"E:\\Python 3.7\\pyetl\\Demodb0103\\venv\\lib\\site-packages\\ckiptagger\\api.py\", line 56, in __del__\n",
      "    self.model.sess.close()\n",
      "AttributeError: 'WS' object has no attribute 'model'\n"
     ]
    },
    {
     "name": "stdout",
     "output_type": "stream",
     "text": [
      "\n",
      "WARNING: The TensorFlow contrib module will not be included in TensorFlow 2.0.\n",
      "For more information, please see:\n",
      "  * https://github.com/tensorflow/community/blob/master/rfcs/20180907-contrib-sunset.md\n",
      "  * https://github.com/tensorflow/addons\n",
      "If you depend on functionality not listed there, please file an issue.\n",
      "\n"
     ]
    }
   ],
   "source": [
    "#導入相關模組\n",
    "import json\n",
    "import random\n",
    "import re\n",
    "\n",
    "import jieba\n",
    "import numpy as np\n",
    "from sklearn.feature_extraction.text import TfidfVectorizer\n",
    "from sklearn.feature_extraction.text import CountVectorizer\n",
    "from sklearn.feature_extraction.text import TfidfTransformer\n",
    "\n",
    "#CKIPtagger導入要用的模組，分別有「WS（斷詞）」、「POS（詞性標注）」及「NER（實體辨識）」與「construct__dictionary(自建辭典)」四個功能。\n",
    "from ckiptagger import construct_dictionary, WS, POS, NER\n",
    "ws = WS('E:/Python 3.7/pyetl/Demodb0103/gym/data')\n",
    "pos = POS('E:/Python 3.7/pyetl/Demodb0103/gym/data')\n",
    "ner = NER('E:/Python 3.7/pyetl/Demodb0103/gym/data')\n",
    "\n",
    "#讀取要段詞的json檔\n",
    "DATASET_DIR = 'E:/Python 3.7/pyetl/Demodb0103/gym/data/gymz.json'\n",
    "with open(DATASET_DIR, encoding='utf8') as f:\n",
    "    dataset = json.load(f)\n",
    "    \n",
    "import time "
   ]
  },
  {
   "cell_type": "code",
   "execution_count": 16,
   "metadata": {},
   "outputs": [],
   "source": [
    "#讀取停止詞典\n",
    "STOP_WORDS_DIR = 'E:/Python 3.7/pyetl/Demodb0103/gym/data/stopWords.txt'\n",
    "with open(STOP_WORDS_DIR, encoding='utf8') as f:\n",
    "    stop_words = f.read().splitlines() "
   ]
  },
  {
   "cell_type": "code",
   "execution_count": 17,
   "metadata": {},
   "outputs": [],
   "source": [
    "#抽出文章的標題與內容\n",
    "content_list = list(map(lambda d: d['content'], dataset))\n",
    "title_list = list(map(lambda d: d['title'], dataset))"
   ]
  },
  {
   "cell_type": "code",
   "execution_count": 18,
   "metadata": {},
   "outputs": [],
   "source": [
    "#設自建辭典，並給予權重\n",
    "word_to_weight1 = {\n",
    "    \"胸肌\": 3,\n",
    "    \"胸部\": 3,\n",
    "    \"肩膀\": 3,\n",
    "    \"背肌\": 3,\n",
    "    \"背部\": 3,\n",
    "    \"手臂\": 3,\n",
    "    \"腹肌\": 3,\n",
    "    \"腹部\": 3,\n",
    "    \"核心\": 3,\n",
    "    \"腿部\": 3,\n",
    "    \"深蹲\": 3,\n",
    "    \"硬舉\": 3,\n",
    "    \"臥推\": 3,\n",
    "    \"啞鈴\": 3,\n",
    "    \"有氧運動\": 3,\n",
    "    \"徒手訓練\": 3,\n",
    "    \"徒手\": 3,\n",
    "    \"肌肉\": 3,\n",
    "    \"重訓\": 3,\n",
    "    \"健身\": 3,\n",
    "    \"弓箭步\": 3,\n",
    "    \"伏地挺身\": 3,\n",
    "    \"引體向上\": 3,\n",
    "    \"棒式\": 3,\n",
    "    \"仰臥起坐\": 3,\n",
    "    \"捲腹\": 3,\n",
    "    \"跑步\": 3,\n",
    "    \"開合跳\": 3,  \n",
    "    \"橋式\": 3,\n",
    "    \"增肌\": 2,\n",
    "    \"減脂\": 2,\n",
    "}\n",
    "dictionary1 = construct_dictionary(word_to_weight1)\n",
    "\n",
    "word_to_weight2 = {\n",
    "    \"胸\": 3,\n",
    "    \"上胸\": 2,\n",
    "    \"下胸\": 2,\n",
    "    \"肩\": 3,\n",
    "    \"手\": 3,\n",
    "    \"腿\": 3,\n",
    "    \"斜方肌\": 2,\n",
    "    \"二頭肌\": 2,\n",
    "    \"三頭肌\": 2,\n",
    "    \"小腿肌群\": 2,\n",
    "    \"臀大肌\": 2,\n",
    "    \"大腿肌\": 2,\n",
    "    \"大腿後肌\": 2,\n",
    "    \"胸大肌\": 2,\n",
    "    \"前三角\": 2,\n",
    "    \"肱三頭\": 2,\n",
    "    \"中三角\": 2,\n",
    "    \"三角肌\": 2,\n",
    "    \"後三角\": 2,\n",
    "    \"棘上肌\": 2,\n",
    "    \"小圓肌\": 2,\n",
    "    \"棘下肌\": 2,\n",
    "    \"中斜方\": 2,\n",
    "    \"菱形肌\": 2,\n",
    "    \"肱二頭\": 2,\n",
    "    \"背闊肌\": 2,\n",
    "    \"豎棘肌\": 2,\n",
    "    \"股四頭\": 2,\n",
    "    \"腿後建肌群\": 2,\n",
    "    \"核心肌群\": 3,\n",
    "    \"腿內收肌群\": 2,\n",
    "    \"臀中肌\": 2,\n",
    "    \"緋腸肌\": 2,\n",
    "    \"比目魚肌\": 2,\n",
    "    \"腹直肌\": 2,\n",
    "    \"腹橫肌\": 2,\n",
    "    \"單邊弓箭步\": 3,\n",
    "    \"上斜伏地挺身\": 3,\n",
    "    \"下斜伏地挺身\": 3,\n",
    "    \"暴力上槓\": 3,\n",
    "    \"棒式撐體\": 3,\n",
    "    \"反向捲腹\": 3,\n",
    "    \"槓鈴\": 2,\n",
    "    \"繩索\": 1,\n",
    "    \"戰神\": 1,\n",
    "    \"沙袋\": 1,\n",
    "    \"按摩池\": 1,\n",
    "    \"機械\": 1,\n",
    "    \"跑步機\": 1,\n",
    "    \"踏步機\": 1,\n",
    "    \"飛輪腳踏車\": 1,\n",
    "    \"交叉滑步訓練機\": 1,\n",
    "    \"坐姿推胸機\": 1,\n",
    "    \"肩部推舉機\": 1,\n",
    "    \"坐姿划船機\": 1,\n",
    "    \"旋轉訓練機\": 1,\n",
    "    \"臂部複合訓練機\": 1,\n",
    "    \"腿部外彎機\": 1,\n",
    "    \"腿部內彎機\": 1,\n",
    "    \"垂直蹬腿練習器\": 1,\n",
    "    \"羅馬凳\": 1,\n",
    "    \"單杠提膝器\": 1,\n",
    "    \"背肌訓練機\": 1,\n",
    "    \"心肺適能訓練\": 1,\n",
    "    \"上斜跑步機\": 1,\n",
    "    \" 跳繩\": 1,\n",
    "    \"胸推\": 1,\n",
    "    \"館長\": 1,\n",
    "    \"胸飛鳥\": 1,\n",
    "    \"上斜胸推\": 1,\n",
    "    \"上斜飛鳥\": 1,\n",
    "    \"下斜胸推\": 1,\n",
    "    \"下斜飛鳥\": 1,\n",
    "    \"肩推\": 1,\n",
    "    \"前平舉\": 1,\n",
    "    \"側平舉\": 1,\n",
    "    \"二頭彎舉\": 1,\n",
    "    \"反向飛鳥\": 1,\n",
    "    \"內旋\": 1,\n",
    "    \"外旋\": 1,\n",
    "    \"滑輪下拉\": 1,\n",
    "    \"反手\": 1,\n",
    "    \"寬握\": 1,\n",
    "    \"正常握\": 1,\n",
    "    \"窄握\": 1,\n",
    "    \"高划船\": 1,\n",
    "    \"仰臥臂屈伸\": 1,\n",
    "    \"俯身划船\": 1,\n",
    "    \"單臂划船\": 1,\n",
    "    \"單邊深蹲\": 2,\n",
    "    \"腿推\": 1,\n",
    "    \"腿伸\": 1,\n",
    "    \"腿曲\": 1,\n",
    "    \"腿內收訓練\": 1,\n",
    "    \"腿外展訓練\": 1,\n",
    "    \"臀部伸展訓練\": 1,\n",
    "    \"舉重\": 1,\n",
    "    \"組數\": 1,\n",
    "    \"次數\": 1,\n",
    "    \"節奏\": 1,\n",
    "    \"休息\": 1,\n",
    "    \"健身營養補給品\": 1,\n",
    "    \"乳清蛋白\": 1,\n",
    "    \"蛋白質營養棒\": 1,\n",
    "    \"支鏈氨基酸\": 1,\n",
    "    \"蛋白質\": 1,\n",
    "    \"碳水化合物\": 1,\n",
    "    \"鈉\": 1,\n",
    "    \"脂肪\": 1,\n",
    "    \"結實的\": 2,\n",
    "    \"身材健美的\": 2,\n",
    "    \"健康\": 1,\n",
    "    \"精實的\": 1,\n",
    "    \"肌肉拉傷\": 2,\n",
    "    \"健身狂人\": 2,\n",
    "    \"健身房會員\": 1,\n",
    "    \"隱形肥胖\": 2,\n",
    "    \"肥胖\": 2,\n",
    "    \"脂肪過量\": 2,\n",
    "    \"低體重\": 2,\n",
    "    \"標準體型\": 2,\n",
    "    \"肌肉型\": 2,\n",
    "    \"運動員型\": 2,\n",
    "    \"運動員\": 2,\n",
    "    \"低脂肪\": 2,\n",
    "    \"肘伸展\": 1,\n",
    "    \"生酮\": 1,\n",
    "}\n",
    "dictionary2 = construct_dictionary(word_to_weight2)\n"
   ]
  },
  {
   "cell_type": "code",
   "execution_count": 19,
   "metadata": {},
   "outputs": [],
   "source": [
    "#替換不需要的句子，並正規化\n",
    "# start = time.clock()\n",
    "gym_list =[]\n",
    "for i in content_list:\n",
    "    i = re.sub('※ 發信站: 批踢踢實業坊',' ', i)\n",
    "    i = re.sub('※ 文章網址:',' ', i)\n",
    "    i = re.sub('※ 編輯:',' ', i)\n",
    "    i = re.sub('(臺灣)',' ', i)\n",
    "    i = re.sub('來自:',' ', i)\n",
    "    #只保留中文\n",
    "    rule = re.compile(r\"[^\\u4e00-\\u9fa5]\")\n",
    "    i = rule.sub('', i)\n",
    "    gym_list.append(i)\n"
   ]
  },
  {
   "cell_type": "code",
   "execution_count": 20,
   "metadata": {},
   "outputs": [],
   "source": [
    "#進行ckip中研院斷詞\n",
    "word_s = ws(gym_list,\n",
    "            #考慮分隔符\n",
    "            sentence_segmentation=True,\n",
    "            #recommend_dictionary參考詞典\n",
    "            recommend_dictionary = dictionary2,\n",
    "            #coerce_dictionary強制詞典\n",
    "            coerce_dictionary = dictionary1,\n",
    "            #斷詞參考符號\n",
    "            segment_delimiter_set={'?', '？', '!', '！', '。', ',',   \n",
    "                                   '，', ';', ':', '、'})\n"
   ]
  },
  {
   "cell_type": "code",
   "execution_count": 21,
   "metadata": {},
   "outputs": [],
   "source": [
    "#去除停止詞\n",
    "for idx, speech in enumerate(word_s):\n",
    "    word_s[idx] = ' '.join([word for word in speech if word not in stop_words])\n",
    "# end = time.clock()\n",
    "# print('運行時間: ' + str(end - start))"
   ]
  },
  {
   "cell_type": "code",
   "execution_count": 35,
   "metadata": {},
   "outputs": [],
   "source": [
    "# 使用 tf-idf 向量化\n",
    "#TfidfTransformer + CountVectorizer = TfidfVectorizer\n",
    "# 需要設置（sublinear_tf = True，use_idf = True）使特徵值近似於高斯分佈\n",
    "# ，這能彌補LSA對於文本數據的錯誤的替代假設\n",
    "tfidf_vectorizer = TfidfVectorizer(max_features = None,\n",
    "                                   sublinear_tf=True, \n",
    "                                   use_idf=True,\n",
    "                                   max_df=0.8,\n",
    "                                   min_df=20)\n",
    "#                                    ngram_range=(1, 4))\n",
    "                                   \n",
    "#將算出的tf-idf 先擬合數據，然後轉化為其其轉化為標準形式\n",
    "tfidf = tfidf_vectorizer.fit_transform(word_s)\n",
    "# 將tf-idf矩陣抽取出來，元素w [i] [j]表示j詞在i類文本中的tf-idf權重\n",
    "tfidf1 = tfidf.toarray()"
   ]
  },
  {
   "cell_type": "code",
   "execution_count": 36,
   "metadata": {},
   "outputs": [],
   "source": [
    "#使用LSA語意分析降維\n",
    "from sklearn.decomposition import TruncatedSVD\n",
    "from sklearn.preprocessing import Normalizer\n",
    "import pandas as pd\n",
    "#使用TruncatedSVD,把原先規模為(文字數，詞彙數)的特徵矩陣X化為規模為(文字數，主題數)的新特徵矩陣X2：\n",
    "#(由於主題數一般比詞彙數少，這一方法也可以用來降維，以進行分類或聚類操作)\n",
    "lsa_model = TruncatedSVD(n_components=100, algorithm='arpack')\n",
    "lsa_vecs = lsa_model.fit_transform(tfidf)\n",
    "#使用Normalization(正則化)，形成獨立同分佈與白化\n",
    "lsa_vecs = Normalizer(copy=False).fit_transform(lsa_vecs)\n",
    "\n",
    "#顯示關鍵字lsa表格\n",
    "feature_names = tfidf_vectorizer.get_feature_names()\n",
    "lsa_df = pd.DataFrame(lsa_model.components_.round(5), columns=feature_names)"
   ]
  },
  {
   "cell_type": "markdown",
   "metadata": {},
   "source": [
    "KMeans分群"
   ]
  },
  {
   "cell_type": "code",
   "execution_count": 37,
   "metadata": {},
   "outputs": [
    {
     "name": "stdout",
     "output_type": "stream",
     "text": [
      "k=2, inertia=16944.1309247103\n",
      "k=3, inertia=16518.97649006276\n",
      "k=4, inertia=16167.658274938767\n",
      "k=5, inertia=15940.534718168094\n",
      "k=6, inertia=15704.683927826763\n",
      "k=7, inertia=15520.727130831465\n",
      "k=8, inertia=15360.732282954483\n",
      "k=9, inertia=15200.929740771659\n",
      "k=10, inertia=15038.39346517988\n",
      "k=11, inertia=14898.033826790917\n",
      "k=12, inertia=14777.656184667398\n",
      "k=13, inertia=14653.324822778379\n",
      "k=14, inertia=14524.26432544566\n",
      "k=15, inertia=14386.747497756618\n",
      "k=16, inertia=14293.49518579808\n",
      "k=17, inertia=14178.967508980388\n",
      "k=18, inertia=14055.942685020653\n",
      "k=19, inertia=13970.395671363534\n"
     ]
    }
   ],
   "source": [
    "# import numpy as np\n",
    "# np.random.seed(123)\n",
    "#跑KMeans分群用簇內誤方差（SSE）決定最佳分群數k\n",
    "from sklearn.cluster import KMeans\n",
    "import matplotlib.pyplot as plt\n",
    "wcss = []\n",
    "for k in range(2, 20):\n",
    "    kmeans = KMeans(n_clusters=k, init='k-means++',n_jobs=-1)\n",
    "    kmeans.fit(lsa_vecs)\n",
    "    wcss.append(kmeans.inertia_)\n",
    "    print('k={}, inertia={}'.format(k, kmeans.inertia_))"
   ]
  },
  {
   "cell_type": "code",
   "execution_count": 38,
   "metadata": {},
   "outputs": [
    {
     "data": {
      "image/png": "[encoded data removed]",
      "text/plain": [
       "<Figure size 432x288 with 1 Axes>"
      ]
     },
     "metadata": {
      "needs_background": "light"
     },
     "output_type": "display_data"
    }
   ],
   "source": [
    "#畫圖\n",
    "plt.plot(range(2, 20), wcss,marker=\"o\")\n",
    "plt.title('The Elbow Method')\n",
    "plt.xlabel('Number of clusters')\n",
    "plt.ylabel('SSE')\n",
    "plt.show()"
   ]
  },
  {
   "cell_type": "code",
   "execution_count": 39,
   "metadata": {},
   "outputs": [],
   "source": [
    "#K-Means, k=10\n",
    "kmeans = KMeans(n_clusters=12, init='k-means++',n_jobs=-1)\n",
    "kmeans.fit(lsa_vecs)\n",
    "clusters = kmeans.predict(lsa_vecs)"
   ]
  },
  {
   "cell_type": "code",
   "execution_count": 29,
   "metadata": {},
   "outputs": [
    {
     "data": {
      "text/plain": [
       "(12, 100)"
      ]
     },
     "execution_count": 29,
     "metadata": {},
     "output_type": "execute_result"
    }
   ],
   "source": [
    "#基於通過LSA創建的2個潛在維度的10個群集。\n",
    "kmeans.cluster_centers_.shape"
   ]
  },
  {
   "cell_type": "code",
   "execution_count": 30,
   "metadata": {},
   "outputs": [
    {
     "data": {
      "text/plain": [
       "(12, 8005)"
      ]
     },
     "execution_count": 30,
     "metadata": {},
     "output_type": "execute_result"
    }
   ],
   "source": [
    "#探索原始尺寸\n",
    "original_space_centroids = lsa_model.inverse_transform(kmeans.cluster_centers_)\n",
    "original_space_centroids.shape"
   ]
  },
  {
   "cell_type": "code",
   "execution_count": 31,
   "metadata": {},
   "outputs": [
    {
     "data": {
      "text/plain": [
       "(12, 8005)"
      ]
     },
     "execution_count": 31,
     "metadata": {},
     "output_type": "execute_result"
    }
   ],
   "source": [
    "order_centroids = original_space_centroids.argsort()[:, ::-1]\n",
    "order_centroids.shape"
   ]
  },
  {
   "cell_type": "code",
   "execution_count": 34,
   "metadata": {},
   "outputs": [
    {
     "name": "stdout",
     "output_type": "stream",
     "text": [
      "Cluster 0\n",
      "\n",
      "面交\n",
      "空桶\n",
      "全新\n",
      "自取\n",
      "地點\n",
      "乳清\n",
      "台北\n",
      "意者\n",
      "乳清 空桶\n",
      "謝謝\n",
      "\n",
      "\n",
      "Cluster 1\n",
      "\n",
      "體重\n",
      "飲食\n",
      "體脂\n",
      "減脂\n",
      "公斤\n",
      "肌肉\n",
      "重訓\n",
      "運動\n",
      "脂肪\n",
      "增肌\n",
      "\n",
      "\n",
      "Cluster 2\n",
      "\n",
      "巨巨\n",
      "小弟\n",
      "請問 巨巨\n",
      "請問\n",
      "健身\n",
      "最近\n",
      "謝謝\n",
      "巨巨 小弟\n",
      "感謝\n",
      "訓練\n",
      "\n",
      "\n",
      "Cluster 3\n",
      "\n",
      "運動\n",
      "跑步\n",
      "重訓\n",
      "健身\n",
      "分鐘\n",
      "時間\n",
      "有氧\n",
      "最近\n",
      "小時\n",
      "真的\n",
      "\n",
      "\n",
      "Cluster 4\n",
      "\n",
      "活動\n",
      "醫師\n",
      "情況\n",
      "心臟\n",
      "疾病\n",
      "運動\n",
      "狀況\n",
      "體重\n",
      "減肥\n",
      "晚餐\n",
      "\n",
      "\n",
      "Cluster 5\n",
      "\n",
      "健身\n",
      "器材\n",
      "最近\n",
      "真的\n",
      "朋友\n",
      "運動\n",
      "希望\n",
      "小弟\n",
      "健身 健身\n",
      "時間\n",
      "\n",
      "\n",
      "Cluster 6\n",
      "\n",
      "熱量\n",
      "蛋白質\n",
      "攝取\n",
      "飲食\n",
      "脂肪\n",
      "食物\n",
      "碳水\n",
      "減脂\n",
      "斷食\n",
      "吃到\n",
      "\n",
      "\n",
      "Cluster 7\n",
      "\n",
      "真的\n",
      "最近\n",
      "謝謝\n",
      "價格\n",
      "台灣\n",
      "目前\n",
      "好像\n",
      "便宜\n",
      "會員\n",
      "朋友\n",
      "\n",
      "\n",
      "Cluster 8\n",
      "\n",
      "口味\n",
      "巧克力\n",
      "乳清\n",
      "味道\n",
      "奶茶\n",
      "好喝\n",
      "巧克力 口味\n",
      "牛奶\n",
      "喝起來\n",
      "草莓\n",
      "\n",
      "\n",
      "Cluster 9\n",
      "\n",
      "教練\n",
      "健身\n",
      "推薦\n",
      "教練課\n",
      "課程\n",
      "健身 教練\n",
      "推薦 教練\n",
      "上課\n",
      "謝謝\n",
      "請問\n",
      "\n",
      "\n",
      "Cluster 10\n",
      "\n",
      "動作\n",
      "訓練\n",
      "重量\n",
      "深蹲\n",
      "硬舉\n",
      "臥推\n",
      "感覺\n",
      "肌肉\n",
      "影片\n",
      "啞鈴\n",
      "\n",
      "\n",
      "Cluster 11\n",
      "\n",
      "請問\n",
      "謝謝\n",
      "健身\n",
      "推薦\n",
      "最近\n",
      "請問 健身\n",
      "感覺\n",
      "請問 巨巨\n",
      "小弟\n",
      "好像\n",
      "\n",
      "\n"
     ]
    }
   ],
   "source": [
    "#檢查每個群集中的前10個TF-IDF功能\n",
    "for cluster in range(12):\n",
    "    features = order_centroids[cluster,0:10]\n",
    "    print('Cluster {}\\n'.format(cluster))\n",
    "    for feature in features:\n",
    "        print(feature_names[feature])\n",
    "    print('\\n')"
   ]
  },
  {
   "cell_type": "code",
   "execution_count": null,
   "metadata": {},
   "outputs": [],
   "source": [
    "#跑KMeans分群用labels決定最佳分群數k\n",
    "# from sklearn.metrics import silhouette_score\n",
    "# from sklearn.cluster import KMeans\n",
    "# import matplotlib.pyplot as plt\n",
    "# %matplotlib inline\n",
    "\n",
    "\n",
    "# scores = [] \n",
    "# ks = []\n",
    "\n",
    "# for k in range(2, 20): \n",
    "#     clu = KMeans(n_clusters = k,init='k-means++',n_jobs=-1) \n",
    "#     clu.fit(lsa_vecs) \n",
    "#     clu_score = silhouette_score(lsa_vecs, clu.labels_) \n",
    "#     scores.append(clu_score) \n",
    "#     ks.append(k)\n",
    "# print(\"分數:\", scores) \n",
    "# print(\"K 值:\", ks) \n",
    "# plt.plot(scores, ks)"
   ]
  },
  {
   "cell_type": "markdown",
   "metadata": {},
   "source": [
    "MiniBatchKMeans分群"
   ]
  },
  {
   "cell_type": "code",
   "execution_count": null,
   "metadata": {},
   "outputs": [],
   "source": [
    "# import numpy as np\n",
    "# np.random.seed(123)\n",
    "#跑MiniBatchKMeans分群用簇內誤方差（SSE）決定最佳分群數k\n",
    "from sklearn.cluster import MiniBatchKMeans\n",
    "wcss = []\n",
    "for k in range(2, 20):\n",
    "    kmeans = MiniBatchKMeans(n_clusters=k, init='k-means++')\n",
    "    kmeans.fit(lsa_vecs)\n",
    "    wcss.append(kmeans.inertia_)\n",
    "    print('k={}, inertia={}'.format(k, kmeans.inertia_))\n",
    "plt.plot(range(2, 20), wcss,marker=\"o\")\n",
    "plt.title('The Elbow Method')\n",
    "plt.xlabel('Number of clusters')\n",
    "plt.ylabel('SSE')\n",
    "plt.show()"
   ]
  },
  {
   "cell_type": "code",
   "execution_count": null,
   "metadata": {},
   "outputs": [],
   "source": [
    "#畫圖\n",
    "plt.plot(range(2, 20), wcss,marker=\"o\")\n",
    "plt.title('The Elbow Method')\n",
    "plt.xlabel('Number of clusters')\n",
    "plt.ylabel('SSE')\n",
    "plt.show()"
   ]
  },
  {
   "cell_type": "code",
   "execution_count": 43,
   "metadata": {},
   "outputs": [],
   "source": [
    "#載入原檔\n",
    "import pandas as pd\n",
    "\n",
    "df = pd.read_csv('E:/Python 3.7/pyetl/Demodb0103/gym/data/ptt_2018-2019_z.csv')"
   ]
  },
  {
   "cell_type": "code",
   "execution_count": null,
   "metadata": {},
   "outputs": [],
   "source": [
    "#查看前10筆\n",
    "df.head(10)"
   ]
  },
  {
   "cell_type": "code",
   "execution_count": null,
   "metadata": {},
   "outputs": [],
   "source": [
    "#進行貼標\n",
    "df[\"label\"] = kmeans.labels_\n",
    "#能計算欄位內元素的頻度\n",
    "from collections import Counter\n",
    "# 看一下df[\"label\"]內元素的出現頻度\n",
    "Counter(df[\"label\"])"
   ]
  },
  {
   "cell_type": "code",
   "execution_count": null,
   "metadata": {},
   "outputs": [],
   "source": [
    "#進行存檔\n",
    "df.to_csv(\"E:/Python 3.7/pyetl/Demodb0103/gym/data/ptt_2018-2019_z1.csv\"\n",
    "                   , encoding=\"utf-8\", index=False)"
   ]
  }
 ],
 "metadata": {
  "kernelspec": {
   "display_name": "Python 3",
   "language": "python",
   "name": "python3"
  },
  "language_info": {
   "codemirror_mode": {
    "name": "ipython",
    "version": 3
   },
   "file_extension": ".py",
   "mimetype": "text/x-python",
   "name": "python",
   "nbconvert_exporter": "python",
   "pygments_lexer": "ipython3",
   "version": "3.7.0"
  }
 },
 "nbformat": 4,
 "nbformat_minor": 2
}
